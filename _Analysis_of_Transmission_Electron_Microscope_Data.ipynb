{
 "cells": [
  {
   "cell_type": "markdown",
   "metadata": {},
   "source": [
    "# Analysis of Transmission Electron Microscope Data\n",
    "<hr style=\"height:1px;border-top:4px solid #FF8200\" />\n",
    "\n",
    "by Gerd Duscher\n",
    "\n",
    "Microscopy Facilities<br>\n",
    "Joint Institute of Advanced Materials<br>\n",
    "The University of Tennessee, Knoxville\n",
    "\n",
    "Model based analysis and quantification of data acquired with transmission electron microscopes \n",
    "\n",
    "# Foreword (ReadME)\n",
    "This course provides information on analysis of TEM data and the background of the nature of this information in the data.\n",
    "\n",
    "Please note, that there is **no programming** required, but the user should not be shy in changing the values of parameters.\n",
    "\n",
    "Therefore, two ways of usage are targeted, \n",
    "* Beginner\n",
    "    * Please start at the beginning and advance in the order of the notebooks given here.\n",
    "* Advanced, Inpatient or both:\n",
    "    * Start with anything with Analyzing in the title and rely on the links provided for further information (and give feedback if links are missing, please).\n"
   ]
  },
  {
   "cell_type": "markdown",
   "metadata": {},
   "source": [
    "# Content\n",
    "This (note-) book is divided in the following sections:\n",
    "\n",
    "* **Chapter 1: [Introduction](CH1-Introduction.ipynb)**\n",
    "    * [Python as it is used here](CH1-Introduction_Python.ipynb)\n",
    "    * [Installation and Prerequesites](CH1-Prerequesites.ipynb)\n",
    "        * [Install with github](CH1-InstallwithGithub.ipynb) \n",
    "    * [Open a (DM) file ](CH1-pyUSID.ipynb)\n",
    "    \n",
    "* **Chapter 2: [Diffraction](CH2_Diffraction.ipynb)**\n",
    "    * [The Electron](CH2-Electron.ipynb)\n",
    "    * [Atomic Form Factor](CH2-Atomic_Form_Factor.ipynb)\n",
    "    * [Basic Crystallography](CH2-Basic_Crystallography.ipynb)\n",
    "        * [Plot Unit Cell with Other Packages](Plot_UnitCell.ipynb)\n",
    "        * [Fourier Transform Laboratory](FourierTransformLaboratory.ipynb)\n",
    "    * [Structure Factors](CH2-Structure_Factors.ipynb)\n",
    "    * [Analyzing Ring Diffraction Pattern](Diffraction-Rings.ipynb)\n",
    "    * [Kinematic Scattering Geometry](Kinematic_Scattering_Geometry.ipynb)\n",
    "    * [Plotting of Diffraction Pattern](Plotting_Diffraction_Pattern.ipynb)\n",
    "    * [Analyzing Spot Diffraction Pattern](Spot_Diffraction_Pattern.ipynb)\n",
    "    * [Kikuchi Lines](Kikuchi_Lines.ipynb)\n",
    "    * [HOLZ Lines](HOLZ_Lines.ipynb)\n",
    "    * [Analyzing Lattice Parameters with HOLZ](HOLZ_Example.ipynb) \n",
    "    * [Kinematic Diffraction with KinsCat](Kinematic_Diffraction_with_KinsCat.ipynb)\n",
    "   \n",
    "* **Chapter 3: [Imaging](Ch3-Imaging.ipynb)**\n",
    "    * [Resolution Limit](Ch3-Resolution.ipynb)\n",
    "    * [Image Processing](Ch3-ImageProcessing.ipynb)\n",
    "    * [Contrast Transfer Function](Ch3-CTF.ipynb)\n",
    "    * [HRTEM Image Analysis](Ch3-ImageAnalysis.ipynb)\n",
    "    * [Image Registration](Ch3-Image_Registration.ipynb)\n",
    "    * [Find Atoms](Ch3-Find_Atoms.ipynb)\n",
    "    * [Atom clustering](Ch3-Atom_Cllustering.ipynb)\n",
    "    * [Voronoi_Image_Analysis](Voronoi_Image_Analysis.ipynb)\n",
    "   \n",
    "* **Chapter 4: [Spectroscopy](Spectoscopy.ipynb)**\n",
    "    * [Loading an EELS Spectrum](LoadEELS.ipynb)\n",
    "    \n",
    "    **Low-Loss EELS**\n",
    "    * [Fitting the Zero-Loss Peak](FitZeroLoss.ipynb)\n",
    "    * [Analysing Low-Loss Spectra with Drude Theory](DrudeLL.ipynb)\n",
    "    * [Momentum Resolved EELS](Dispersion.ipynb)\n",
    "    * [Simulation of Momentum Resolved EELS](Kroeger.ipynb)\n",
    "    * [Calculating Dielectric Function I: Aluminum](DielectricDFT.ipynb)\n",
    "    * [Calculating Dielectric Function II: Silicon](DielectricDFT2.ipynb)\n",
    "\n",
    "    **Core Loss EELS**\n",
    "    * [Background Fit](Background_Fit.ipynb)\n",
    "    * [Working with Cross-Sections](CH4-Working_with_X-Sections.ipynb)\n",
    "    * [Chemical Composition](Chemical_Composition.ipynb)\n",
    "    * [Electron Energy-Loss Near-Edge Structure](ELNES.ipynb)\n",
    "    \n",
    "    **Energy Dispersive X-Ray Spectroscopy**\n",
    "    \n",
    "* **Chapter 5: [Simulation](Simulation.ipynb)**\n",
    "    * [Introduction to the *atomic simulation environment* ase](ase_intro.ipynb)\n",
    "\n",
    "    **Structure**\n",
    "    * [Building Symmetric Tilt Grain Boundaries](GrainBoundaryI.ipynb)\n",
    "    * [Analysing Tilt Grain Boundaries](Analysing_GB.ipynb)\n",
    "    * [Molecular Dynamics Basics](MolecularDynamics.ipynb)\n",
    "\n",
    "    **Properties**\n",
    "    * [nn](nn)\n",
    "    \n",
    "    **Images**\n",
    "    * [nn](nn)"
   ]
  },
  {
   "cell_type": "markdown",
   "metadata": {},
   "source": [
    "## Introduction to Python as it is used in this book\n",
    "\n",
    "First of all you do not need to program anything, however, you will have to change the values of input parameters inthe code cells. Of course, you are incouraged and to modify the code in order to explore the data analysis methods. \n",
    "\n",
    "In this book, we will use the python program language.\n",
    "For this language, a lot of packages are available that provide algorythms for all common mathematical and statistical needs.\n",
    "\n",
    "In this book we rely most heavily on the standard numerical and scientific library:<b> numpy and scipy </b>\n",
    "\n",
    "The philosophy of this book is not to reinvent the wheel but to use those package which are highly optimized.\n",
    "The code should be as easy to read as possible, which means \n",
    "    * the variable names are chosen in the same manner as in the formulas, \n",
    "    * the routines of the different packages are not wrapped in others \n",
    "    * the code is written step by step and not organized in classes \n"
   ]
  },
  {
   "cell_type": "markdown",
   "metadata": {},
   "source": [
    "# An Example\n",
    "We will do a lot of vector algebra so as an example we want to compute the angle between two vectors, \n",
    "\n",
    "which is calculated by trasnforming the dfinition of the dot product: $\\vec{a} \\cdot \\vec{b} = \\left| \\vec{a} \\right| \\left| \\vec{b} \\right| \\cos (\\theta) $\n",
    "\n",
    "$$ \\theta = \\arccos\\left( \\frac{\\vec{a} \\cdot \\vec{b}}{\\left| \\vec{a} \\right| \\left| \\vec{b} \\right|} \\right)$$"
   ]
  },
  {
   "cell_type": "code",
   "execution_count": 2,
   "metadata": {},
   "outputs": [
    {
     "name": "stdout",
     "output_type": "stream",
     "text": [
      "The angle between vectors a and b is 43.09 degree\n"
     ]
    }
   ],
   "source": [
    "# We need to import the numpy package\n",
    "import numpy as np\n",
    "\n",
    "# We define the two vectors\n",
    "a_vector = [1,1,2]\n",
    "b_vector = [0,2,1]\n",
    "\n",
    "# calculate the lengths of the vectors\n",
    "a_length = np.linalg.norm(a_vector)\n",
    "b_length = np.linalg.norm(b_vector)\n",
    "\n",
    "#now the angle between vectors a and b according to above formula\n",
    "theta = np.arccos(np.dot(a_vector, b_vector) / (a_length * b_length) )\n",
    "\n",
    "print('The angle between vectors a and b is {0:.2f} degree'.format(np.degrees(theta)) )"
   ]
  },
  {
   "cell_type": "markdown",
   "metadata": {},
   "source": [
    "Please refer to the [Python as it is used here](CH1-Introduction_Python.ipynb) notebook for more information.\n"
   ]
  },
  {
   "cell_type": "markdown",
   "metadata": {},
   "source": [
    "## Libraries and Classes\n",
    "\n",
    "The functions introduced in this book are also organized in a package. The package is named [pyTEMlib](https://github.com/gduscher/pyTEMlib) and can be downloaded from github (no pip installation at this point in time).\n",
    "\n",
    "\n",
    "For a more modern programming approach they could also be grouped in classes, but classes  put another layer between notebook and code, which is desirable for abstraction but not necessarily for understanding.\n",
    "\n",
    "So for the course of this book the functions will be made available in libraries, which can be wrapped in classes for a more monolithic program.\n",
    "\n",
    "A graphical user interface (GUI) was conciously omitted in this book to encourage the user to mess around in the code.\n",
    "So please change theparameters and see what happens.\n",
    "\n",
    "## A word of caution:\n",
    "A notebook can become confusing if one does not go through it in a sequential way, because the values of parameters can be changed at any stage in any code cell without the other cells having any knowledge about the order in which the cells are activated.\n",
    "\n",
    "A program or function will not have that kind of confusing tendency, and therefore, once we understand a topic, a comprehensive function will be provided.\n"
   ]
  },
  {
   "cell_type": "code",
   "execution_count": null,
   "metadata": {},
   "outputs": [],
   "source": []
  }
 ],
 "metadata": {
  "kernelspec": {
   "display_name": "Python 3",
   "language": "python",
   "name": "python3"
  },
  "language_info": {
   "codemirror_mode": {
    "name": "ipython",
    "version": 3
   },
   "file_extension": ".py",
   "mimetype": "text/x-python",
   "name": "python",
   "nbconvert_exporter": "python",
   "pygments_lexer": "ipython3",
   "version": "3.7.3"
  }
 },
 "nbformat": 4,
 "nbformat_minor": 2
}
