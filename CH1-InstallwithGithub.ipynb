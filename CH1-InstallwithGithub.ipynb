{
 "cells": [
  {
   "cell_type": "markdown",
   "metadata": {},
   "source": [
    "## Chapter 1: [Introduction](Introduction.ipynb)\n",
    "\n",
    "<hr style=\"height:1px;border-top:4px solid #FF8200\" />\n",
    "\n",
    "# Install pyTEMlib with github\n",
    "\n",
    "\n",
    "part of \n",
    "\n",
    "## [Analysis of Transmission Electron Microscope Data](_Analysis_of_Transmission_Electron_Microscope_Data.ipynb)\n",
    "\n",
    "\n",
    "\n",
    "by Gerd Duscher, 2019\n",
    "\n",
    "Microscopy Facilities<br>\n",
    "Joint Institute of Advanced Materials<br>\n",
    "The University of Tennessee, Knoxville\n",
    "\n",
    "Model based analysis and quantification of data acquired with transmission electron microscopes\n"
   ]
  },
  {
   "cell_type": "markdown",
   "metadata": {},
   "source": [
    "## TEM Library\n",
    "\n",
    "This notebook is convenient for development of pyTEMlib. It is not necessary for normal install use \n",
    "With the [git](https://git-scm.com/download/win) program, you can download the development version. "
   ]
  },
  {
   "cell_type": "code",
   "execution_count": 13,
   "metadata": {
    "scrolled": true
   },
   "outputs": [
    {
     "name": "stdout",
     "output_type": "stream",
     "text": [
      "Collecting git+https://github.com/gduscher/pyTEMlib@master\n",
      "  Cloning https://github.com/gduscher/pyTEMlib (to revision master) to c:\\users\\gdusc\\appdata\\local\\temp\\pip-req-build-fqwqu9ia\n",
      "Building wheels for collected packages: pyTEMlib\n",
      "  Building wheel for pyTEMlib (setup.py): started\n",
      "  Building wheel for pyTEMlib (setup.py): finished with status 'done'\n",
      "  Stored in directory: C:\\Users\\gdusc\\AppData\\Local\\Temp\\pip-ephem-wheel-cache-duvr2aim\\wheels\\19\\c3\\e6\\59d5348775541e97cfab308d332ab676f2204576ca79ab9118\n",
      "Successfully built pyTEMlib\n",
      "Installing collected packages: pyTEMlib\n"
     ]
    },
    {
     "name": "stderr",
     "output_type": "stream",
     "text": [
      "  Running command git clone -q https://github.com/gduscher/pyTEMlib 'C:\\Users\\gdusc\\AppData\\Local\\Temp\\pip-req-build-fqwqu9ia'\n",
      "ERROR: Could not install packages due to an EnvironmentError: [WinError 5] Access is denied: 'C:\\\\Users\\\\gdusc\\\\Anaconda3\\\\Lib\\\\site-packages\\\\pyTEMlib\\\\data\\\\microscopes.csv'\n",
      "Consider using the `--user` option or check the permissions.\n",
      "\n"
     ]
    }
   ],
   "source": [
    "import sys\n",
    "\n",
    "!{sys.executable} -m pip install --upgrade --no-dependencies  git+https://github.com/gduscher/pyTEMlib@master\n"
   ]
  },
  {
   "cell_type": "code",
   "execution_count": 14,
   "metadata": {},
   "outputs": [
    {
     "name": "stdout",
     "output_type": "stream",
     "text": [
      "pyTEM version:  0.6.2019.5\n"
     ]
    }
   ],
   "source": [
    "import pyTEMlib\n",
    "print('pyTEM version: ',pyTEMlib.__version__)"
   ]
  },
  {
   "cell_type": "markdown",
   "metadata": {},
   "source": [
    "If the folder with the pyTEMlib source code is within the notebook folder then you can use the following code cell.\n",
    "\n",
    "The library (package) can be downloaded from [github](https://github.com/gduscher/pyTEMlib)\n"
   ]
  },
  {
   "cell_type": "code",
   "execution_count": 9,
   "metadata": {},
   "outputs": [
    {
     "name": "stdout",
     "output_type": "stream",
     "text": [
      "Processing c:\\users\\gduscher\\documents\\github\\pytemlib\n",
      "Building wheels for collected packages: pyTEMlib\n",
      "  Building wheel for pyTEMlib (setup.py): started\n",
      "  Building wheel for pyTEMlib (setup.py): finished with status 'done'\n",
      "  Stored in directory: C:\\Users\\gduscher\\AppData\\Local\\Temp\\pip-ephem-wheel-cache-dsyiegn8\\wheels\\18\\c8\\13\\4c95b99eda6ca079dba8622444f11e90622915f61b76bf17e7\n",
      "Successfully built pyTEMlib\n",
      "Installing collected packages: pyTEMlib\n",
      "  Found existing installation: pyTEMlib 0.6.2019.5\n",
      "    Uninstalling pyTEMlib-0.6.2019.5:\n",
      "      Successfully uninstalled pyTEMlib-0.6.2019.5\n",
      "Successfully installed pyTEMlib-0.6.2019.5\n"
     ]
    }
   ],
   "source": [
    "import sys\n",
    "!{sys.executable} -m pip install  --upgrade  --no-dependencies ../pyTEMlib/\n"
   ]
  },
  {
   "cell_type": "markdown",
   "metadata": {},
   "source": [
    "## Uninstall\n",
    "\n",
    "for uninstall run the following code.\n"
   ]
  },
  {
   "cell_type": "code",
   "execution_count": null,
   "metadata": {},
   "outputs": [],
   "source": [
    "import sys\n",
    "!{sys.executable} -m pip uninstall  pyTEMlib"
   ]
  },
  {
   "cell_type": "markdown",
   "metadata": {},
   "source": [
    "## Upgrade Pip"
   ]
  },
  {
   "cell_type": "code",
   "execution_count": 7,
   "metadata": {},
   "outputs": [
    {
     "name": "stdout",
     "output_type": "stream",
     "text": [
      "Collecting pip\n",
      "  Downloading https://files.pythonhosted.org/packages/f9/fb/863012b13912709c13cf5cfdbfb304fa6c727659d6290438e1a88df9d848/pip-19.1-py2.py3-none-any.whl (1.4MB)\n",
      "Installing collected packages: pip\n",
      "  Found existing installation: pip 19.0.3\n",
      "    Uninstalling pip-19.0.3:\n",
      "      Successfully uninstalled pip-19.0.3\n",
      "Successfully installed pip-19.1\n"
     ]
    }
   ],
   "source": [
    "import sys\n",
    "# get rid of annoying update pip installer\n",
    "!{sys.executable} -m pip install --upgrade pip\n"
   ]
  },
  {
   "cell_type": "markdown",
   "metadata": {},
   "source": [
    "## Note\n",
    "\n",
    "Don't forget to restart the Kernel of all notebooks that are open to make changes effective"
   ]
  },
  {
   "cell_type": "markdown",
   "metadata": {
    "collapsed": true
   },
   "source": [
    "## Next:  [Open a (DM) file ](CH1-pyUSID.ipynb)\n",
    "## ## List of Content: [Front](_Analysis_of_Transmission_Electron_Microscope_Data.ipynb)"
   ]
  },
  {
   "cell_type": "code",
   "execution_count": null,
   "metadata": {},
   "outputs": [],
   "source": []
  }
 ],
 "metadata": {
  "kernelspec": {
   "display_name": "Python 3",
   "language": "python",
   "name": "python3"
  },
  "language_info": {
   "codemirror_mode": {
    "name": "ipython",
    "version": 3
   },
   "file_extension": ".py",
   "mimetype": "text/x-python",
   "name": "python",
   "nbconvert_exporter": "python",
   "pygments_lexer": "ipython3",
   "version": "3.7.3"
  }
 },
 "nbformat": 4,
 "nbformat_minor": 2
}
