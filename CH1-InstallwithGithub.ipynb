{
 "cells": [
  {
   "cell_type": "markdown",
   "metadata": {},
   "source": [
    "## Chapter 1: [Introduction](Introduction.ipynb)\n",
    "\n",
    "<hr style=\"height:1px;border-top:4px solid #FF8200\" />\n",
    "\n",
    "# Install pyTEMlib with github\n",
    "\n",
    "\n",
    "part of \n",
    "\n",
    "## [Analysis of Transmission Electron Microscope Data](_Analysis_of_Transmission_Electron_Microscope_Data.ipynb)\n",
    "\n",
    "\n",
    "\n",
    "by Gerd Duscher, 2019\n",
    "\n",
    "Microscopy Facilities<br>\n",
    "Joint Institute of Advanced Materials<br>\n",
    "The University of Tennessee, Knoxville\n",
    "\n",
    "Model based analysis and quantification of data acquired with transmission electron microscopes\n"
   ]
  },
  {
   "cell_type": "markdown",
   "metadata": {},
   "source": [
    "## TEM Library\n",
    "\n",
    "This notebook is convenient for development of pyTEMlib. It is not necessary for normal install use \n",
    "With the [git](https://git-scm.com/download/win) program, you can download the development version. "
   ]
  },
  {
   "cell_type": "code",
   "execution_count": 9,
   "metadata": {
    "scrolled": true
   },
   "outputs": [
    {
     "name": "stdout",
     "output_type": "stream",
     "text": [
      "Collecting git+https://github.com/gduscher/pyTEMlib@master\n",
      "  Cloning https://github.com/gduscher/pyTEMlib (to revision master) to c:\\users\\gduscher\\appdata\\local\\temp\\pip-req-build-fqc5i5th\n",
      "Building wheels for collected packages: pyTEMlib\n",
      "  Building wheel for pyTEMlib (setup.py): started\n",
      "  Building wheel for pyTEMlib (setup.py): finished with status 'done'\n",
      "  Stored in directory: C:\\Users\\gduscher\\AppData\\Local\\Temp\\pip-ephem-wheel-cache-xsaamvja\\wheels\\19\\c3\\e6\\59d5348775541e97cfab308d332ab676f2204576ca79ab9118\n",
      "Successfully built pyTEMlib\n",
      "Installing collected packages: pyTEMlib\n"
     ]
    },
    {
     "name": "stderr",
     "output_type": "stream",
     "text": [
      "  Running command git clone -q https://github.com/gduscher/pyTEMlib 'C:\\Users\\gduscher\\AppData\\Local\\Temp\\pip-req-build-fqc5i5th'\n",
      "ERROR: Could not install packages due to an EnvironmentError: [WinError 32] The process cannot access the file because it is being used by another process: 'C:\\\\Users\\\\gduscher\\\\AppData\\\\Local\\\\Continuum\\\\anaconda3\\\\Lib\\\\site-packages\\\\pyTEMlib\\\\data\\\\edges_db.pkl'\n",
      "Consider using the `--user` option or check the permissions.\n",
      "\n"
     ]
    }
   ],
   "source": [
    "import sys\n",
    "\n",
    "!{sys.executable} -m pip install --upgrade --no-dependencies  git+https://github.com/gduscher/pyTEMlib@master\n"
   ]
  },
  {
   "cell_type": "code",
   "execution_count": 5,
   "metadata": {},
   "outputs": [
    {
     "name": "stdout",
     "output_type": "stream",
     "text": [
      "pyTEM version:  0.6.2019.2\n"
     ]
    }
   ],
   "source": [
    "import pyTEMlib\n",
    "print('pyTEM version: ',pyTEMlib.__version__)"
   ]
  },
  {
   "cell_type": "markdown",
   "metadata": {},
   "source": [
    "If the folder with the pyTEMlib source code is within the notebook folder then you can use the following code cell.\n",
    "\n",
    "The library (package) can be downloaded from [github](https://github.com/gduscher/pyTEMlib)\n"
   ]
  },
  {
   "cell_type": "code",
   "execution_count": null,
   "metadata": {},
   "outputs": [],
   "source": [
    "import sys\n",
    "!{sys.executable} -m pip install  --upgrade ./pyTEMlib/\n"
   ]
  },
  {
   "cell_type": "markdown",
   "metadata": {},
   "source": [
    "## Uninstall\n",
    "\n",
    "for uninstall run the following code.\n"
   ]
  },
  {
   "cell_type": "code",
   "execution_count": null,
   "metadata": {},
   "outputs": [],
   "source": [
    "import sys\n",
    "!{sys.executable} -m pip uninstall  pyTEMlib"
   ]
  },
  {
   "cell_type": "markdown",
   "metadata": {},
   "source": [
    "## Upgrade Pip"
   ]
  },
  {
   "cell_type": "code",
   "execution_count": 7,
   "metadata": {},
   "outputs": [
    {
     "name": "stdout",
     "output_type": "stream",
     "text": [
      "Collecting pip\n",
      "  Downloading https://files.pythonhosted.org/packages/f9/fb/863012b13912709c13cf5cfdbfb304fa6c727659d6290438e1a88df9d848/pip-19.1-py2.py3-none-any.whl (1.4MB)\n",
      "Installing collected packages: pip\n",
      "  Found existing installation: pip 19.0.3\n",
      "    Uninstalling pip-19.0.3:\n",
      "      Successfully uninstalled pip-19.0.3\n",
      "Successfully installed pip-19.1\n"
     ]
    }
   ],
   "source": [
    "import sys\n",
    "# get rid of annoying update pip installer\n",
    "!{sys.executable} -m pip install --upgrade pip\n"
   ]
  },
  {
   "cell_type": "markdown",
   "metadata": {},
   "source": [
    "## Note\n",
    "\n",
    "Don't forget to restart the Kernel of all notebooks that are open to make changes effective"
   ]
  },
  {
   "cell_type": "markdown",
   "metadata": {
    "collapsed": true
   },
   "source": [
    "## Next:  [Open a (DM) file ](CH1-pyUSID.ipynb)\n",
    "## ## List of Content: [Front](_Analysis_of_Transmission_Electron_Microscope_Data.ipynb)"
   ]
  },
  {
   "cell_type": "code",
   "execution_count": null,
   "metadata": {},
   "outputs": [],
   "source": []
  }
 ],
 "metadata": {
  "kernelspec": {
   "display_name": "Python 3",
   "language": "python",
   "name": "python3"
  },
  "language_info": {
   "codemirror_mode": {
    "name": "ipython",
    "version": 3
   },
   "file_extension": ".py",
   "mimetype": "text/x-python",
   "name": "python",
   "nbconvert_exporter": "python",
   "pygments_lexer": "ipython3",
   "version": "3.7.0"
  }
 },
 "nbformat": 4,
 "nbformat_minor": 2
}
