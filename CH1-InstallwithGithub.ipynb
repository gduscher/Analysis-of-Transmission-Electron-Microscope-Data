{
 "cells": [
  {
   "cell_type": "markdown",
   "metadata": {},
   "source": [
    "## Chapter 1: [Introduction](Introduction.ipynb)\n",
    "\n",
    "<hr style=\"height:1px;border-top:4px solid #FF8200\" />\n",
    "\n",
    "# Install pyTEMlib with github\n",
    "\n",
    "\n",
    "part of \n",
    "\n",
    "## [Analysis of Transmission Electron Microscope Data](_Analysis_of_Transmission_Electron_Microscope_Data.ipynb)\n",
    "\n",
    "\n",
    "\n",
    "by Gerd Duscher, 2019\n",
    "\n",
    "Microscopy Facilities<br>\n",
    "Joint Institute of Advanced Materials<br>\n",
    "The University of Tennessee, Knoxville\n",
    "\n",
    "Model based analysis and quantification of data acquired with transmission electron microscopes\n"
   ]
  },
  {
   "cell_type": "markdown",
   "metadata": {},
   "source": [
    "## TEM Library\n",
    "\n",
    "This notebook is convenient for development of pyTEMlib. It is not necessary for normal install use \n",
    "With the [git](https://git-scm.com/download/win) program, you can download the development version. "
   ]
  },
  {
   "cell_type": "code",
   "execution_count": 13,
   "metadata": {
    "scrolled": true
   },
   "outputs": [
    {
     "name": "stdout",
     "output_type": "stream",
     "text": [
      "Collecting git+https://github.com/gduscher/pyTEMlib@master\n",
      "  Cloning https://github.com/gduscher/pyTEMlib (to revision master) to c:\\users\\gdusc\\appdata\\local\\temp\\pip-req-build-fqwqu9ia\n",
      "Building wheels for collected packages: pyTEMlib\n",
      "  Building wheel for pyTEMlib (setup.py): started\n",
      "  Building wheel for pyTEMlib (setup.py): finished with status 'done'\n",
      "  Stored in directory: C:\\Users\\gdusc\\AppData\\Local\\Temp\\pip-ephem-wheel-cache-duvr2aim\\wheels\\19\\c3\\e6\\59d5348775541e97cfab308d332ab676f2204576ca79ab9118\n",
      "Successfully built pyTEMlib\n",
      "Installing collected packages: pyTEMlib\n"
     ]
    },
    {
     "name": "stderr",
     "output_type": "stream",
     "text": [
      "  Running command git clone -q https://github.com/gduscher/pyTEMlib 'C:\\Users\\gdusc\\AppData\\Local\\Temp\\pip-req-build-fqwqu9ia'\n",
      "ERROR: Could not install packages due to an EnvironmentError: [WinError 5] Access is denied: 'C:\\\\Users\\\\gdusc\\\\Anaconda3\\\\Lib\\\\site-packages\\\\pyTEMlib\\\\data\\\\microscopes.csv'\n",
      "Consider using the `--user` option or check the permissions.\n",
      "\n"
     ]
    }
   ],
   "source": [
    "import sys\n",
    "\n",
    "!{sys.executable} -m pip install --upgrade --no-dependencies  git+https://github.com/gduscher/pyTEMlib@master\n"
   ]
  },
  {
   "cell_type": "code",
   "execution_count": 3,
   "metadata": {},
   "outputs": [
    {
     "name": "stdout",
     "output_type": "stream",
     "text": [
      "pyTEM version:  0.7.2019.9\n"
     ]
    }
   ],
   "source": [
    "import pyTEMlib\n",
    "print('pyTEM version: ',pyTEMlib.__version__)"
   ]
  },
  {
   "cell_type": "markdown",
   "metadata": {},
   "source": [
    "If the folder with the pyTEMlib source code is within the notebook folder then you can use the following code cell.\n",
    "\n",
    "The library (package) can be downloaded from [github](https://github.com/gduscher/pyTEMlib)\n"
   ]
  },
  {
   "cell_type": "code",
   "execution_count": 2,
   "metadata": {},
   "outputs": [
    {
     "name": "stdout",
     "output_type": "stream",
     "text": [
      "Processing c:\\users\\gdusc\\documents\\github\\pytemlib\n",
      "Requirement already satisfied, skipping upgrade: scipy in c:\\users\\gdusc\\anaconda3\\lib\\site-packages (from pyTEMlib==0.7.2019.9) (1.3.1)\n",
      "Requirement already satisfied, skipping upgrade: numpy in c:\\users\\gdusc\\anaconda3\\lib\\site-packages (from pyTEMlib==0.7.2019.9) (1.16.5)\n",
      "Requirement already satisfied, skipping upgrade: pillow in c:\\users\\gdusc\\anaconda3\\lib\\site-packages (from pyTEMlib==0.7.2019.9) (6.2.0)\n",
      "Requirement already satisfied, skipping upgrade: pyqtgraph in c:\\users\\gdusc\\anaconda3\\lib\\site-packages (from pyTEMlib==0.7.2019.9) (0.10.0)\n",
      "Requirement already satisfied, skipping upgrade: simpleITK in c:\\users\\gdusc\\anaconda3\\lib\\site-packages (from pyTEMlib==0.7.2019.9) (1.2.2)\n",
      "Requirement already satisfied, skipping upgrade: ase in c:\\users\\gdusc\\anaconda3\\lib\\site-packages (from pyTEMlib==0.7.2019.9) (3.18.1)\n",
      "Requirement already satisfied, skipping upgrade: pyUSID in c:\\users\\gdusc\\anaconda3\\lib\\site-packages (from pyTEMlib==0.7.2019.9) (0.0.6.2)\n",
      "Requirement already satisfied, skipping upgrade: matplotlib in c:\\users\\gdusc\\anaconda3\\lib\\site-packages (from ase->pyTEMlib==0.7.2019.9) (3.1.1)\n",
      "Requirement already satisfied, skipping upgrade: cytoolz in c:\\users\\gdusc\\anaconda3\\lib\\site-packages (from pyUSID->pyTEMlib==0.7.2019.9) (0.10.0)\n",
      "Requirement already satisfied, skipping upgrade: toolz in c:\\users\\gdusc\\anaconda3\\lib\\site-packages (from pyUSID->pyTEMlib==0.7.2019.9) (0.10.0)\n",
      "Requirement already satisfied, skipping upgrade: six in c:\\users\\gdusc\\anaconda3\\lib\\site-packages (from pyUSID->pyTEMlib==0.7.2019.9) (1.12.0)\n",
      "Requirement already satisfied, skipping upgrade: ipywidgets>=5.2.2 in c:\\users\\gdusc\\anaconda3\\lib\\site-packages (from pyUSID->pyTEMlib==0.7.2019.9) (7.5.1)\n",
      "Requirement already satisfied, skipping upgrade: ipython>=6.0; python_version >= \"3.3\" in c:\\users\\gdusc\\anaconda3\\lib\\site-packages (from pyUSID->pyTEMlib==0.7.2019.9) (7.8.0)\n",
      "Requirement already satisfied, skipping upgrade: psutil in c:\\users\\gdusc\\anaconda3\\lib\\site-packages (from pyUSID->pyTEMlib==0.7.2019.9) (5.6.3)\n",
      "Requirement already satisfied, skipping upgrade: dask>=0.10 in c:\\users\\gdusc\\anaconda3\\lib\\site-packages (from pyUSID->pyTEMlib==0.7.2019.9) (2.5.2)\n",
      "Requirement already satisfied, skipping upgrade: h5py>=2.6.0 in c:\\users\\gdusc\\anaconda3\\lib\\site-packages (from pyUSID->pyTEMlib==0.7.2019.9) (2.9.0)\n",
      "Requirement already satisfied, skipping upgrade: joblib>=0.11.0 in c:\\users\\gdusc\\anaconda3\\lib\\site-packages (from pyUSID->pyTEMlib==0.7.2019.9) (0.13.2)\n",
      "Requirement already satisfied, skipping upgrade: cycler>=0.10 in c:\\users\\gdusc\\anaconda3\\lib\\site-packages (from matplotlib->ase->pyTEMlib==0.7.2019.9) (0.10.0)\n",
      "Requirement already satisfied, skipping upgrade: kiwisolver>=1.0.1 in c:\\users\\gdusc\\anaconda3\\lib\\site-packages (from matplotlib->ase->pyTEMlib==0.7.2019.9) (1.1.0)\n",
      "Requirement already satisfied, skipping upgrade: pyparsing!=2.0.4,!=2.1.2,!=2.1.6,>=2.0.1 in c:\\users\\gdusc\\anaconda3\\lib\\site-packages (from matplotlib->ase->pyTEMlib==0.7.2019.9) (2.4.2)\n",
      "Requirement already satisfied, skipping upgrade: python-dateutil>=2.1 in c:\\users\\gdusc\\anaconda3\\lib\\site-packages (from matplotlib->ase->pyTEMlib==0.7.2019.9) (2.8.0)\n",
      "Requirement already satisfied, skipping upgrade: widgetsnbextension~=3.5.0 in c:\\users\\gdusc\\anaconda3\\lib\\site-packages (from ipywidgets>=5.2.2->pyUSID->pyTEMlib==0.7.2019.9) (3.5.1)\n",
      "Requirement already satisfied, skipping upgrade: ipykernel>=4.5.1 in c:\\users\\gdusc\\anaconda3\\lib\\site-packages (from ipywidgets>=5.2.2->pyUSID->pyTEMlib==0.7.2019.9) (5.1.2)\n",
      "Requirement already satisfied, skipping upgrade: nbformat>=4.2.0 in c:\\users\\gdusc\\anaconda3\\lib\\site-packages (from ipywidgets>=5.2.2->pyUSID->pyTEMlib==0.7.2019.9) (4.4.0)\n",
      "Requirement already satisfied, skipping upgrade: traitlets>=4.3.1 in c:\\users\\gdusc\\anaconda3\\lib\\site-packages (from ipywidgets>=5.2.2->pyUSID->pyTEMlib==0.7.2019.9) (4.3.3)\n",
      "Requirement already satisfied, skipping upgrade: pickleshare in c:\\users\\gdusc\\anaconda3\\lib\\site-packages (from ipython>=6.0; python_version >= \"3.3\"->pyUSID->pyTEMlib==0.7.2019.9) (0.7.5)\n",
      "Requirement already satisfied, skipping upgrade: backcall in c:\\users\\gdusc\\anaconda3\\lib\\site-packages (from ipython>=6.0; python_version >= \"3.3\"->pyUSID->pyTEMlib==0.7.2019.9) (0.1.0)\n",
      "Requirement already satisfied, skipping upgrade: setuptools>=18.5 in c:\\users\\gdusc\\anaconda3\\lib\\site-packages (from ipython>=6.0; python_version >= \"3.3\"->pyUSID->pyTEMlib==0.7.2019.9) (41.4.0)\n",
      "Requirement already satisfied, skipping upgrade: pygments in c:\\users\\gdusc\\anaconda3\\lib\\site-packages (from ipython>=6.0; python_version >= \"3.3\"->pyUSID->pyTEMlib==0.7.2019.9) (2.4.2)\n",
      "Requirement already satisfied, skipping upgrade: decorator in c:\\users\\gdusc\\anaconda3\\lib\\site-packages (from ipython>=6.0; python_version >= \"3.3\"->pyUSID->pyTEMlib==0.7.2019.9) (4.4.0)\n",
      "Requirement already satisfied, skipping upgrade: prompt-toolkit<2.1.0,>=2.0.0 in c:\\users\\gdusc\\anaconda3\\lib\\site-packages (from ipython>=6.0; python_version >= \"3.3\"->pyUSID->pyTEMlib==0.7.2019.9) (2.0.10)\n",
      "Requirement already satisfied, skipping upgrade: colorama; sys_platform == \"win32\" in c:\\users\\gdusc\\anaconda3\\lib\\site-packages (from ipython>=6.0; python_version >= \"3.3\"->pyUSID->pyTEMlib==0.7.2019.9) (0.4.1)\n",
      "Requirement already satisfied, skipping upgrade: jedi>=0.10 in c:\\users\\gdusc\\anaconda3\\lib\\site-packages (from ipython>=6.0; python_version >= \"3.3\"->pyUSID->pyTEMlib==0.7.2019.9) (0.15.1)\n",
      "Requirement already satisfied, skipping upgrade: notebook>=4.4.1 in c:\\users\\gdusc\\anaconda3\\lib\\site-packages (from widgetsnbextension~=3.5.0->ipywidgets>=5.2.2->pyUSID->pyTEMlib==0.7.2019.9) (6.0.1)\n",
      "Requirement already satisfied, skipping upgrade: jupyter-client in c:\\users\\gdusc\\anaconda3\\lib\\site-packages (from ipykernel>=4.5.1->ipywidgets>=5.2.2->pyUSID->pyTEMlib==0.7.2019.9) (5.3.3)\n",
      "Requirement already satisfied, skipping upgrade: tornado>=4.2 in c:\\users\\gdusc\\anaconda3\\lib\\site-packages (from ipykernel>=4.5.1->ipywidgets>=5.2.2->pyUSID->pyTEMlib==0.7.2019.9) (6.0.3)\n",
      "Requirement already satisfied, skipping upgrade: jupyter-core in c:\\users\\gdusc\\anaconda3\\lib\\site-packages (from nbformat>=4.2.0->ipywidgets>=5.2.2->pyUSID->pyTEMlib==0.7.2019.9) (4.5.0)\n",
      "Requirement already satisfied, skipping upgrade: jsonschema!=2.5.0,>=2.4 in c:\\users\\gdusc\\anaconda3\\lib\\site-packages (from nbformat>=4.2.0->ipywidgets>=5.2.2->pyUSID->pyTEMlib==0.7.2019.9) (3.0.2)\n",
      "Requirement already satisfied, skipping upgrade: ipython-genutils in c:\\users\\gdusc\\anaconda3\\lib\\site-packages (from nbformat>=4.2.0->ipywidgets>=5.2.2->pyUSID->pyTEMlib==0.7.2019.9) (0.2.0)\n",
      "Requirement already satisfied, skipping upgrade: wcwidth in c:\\users\\gdusc\\anaconda3\\lib\\site-packages (from prompt-toolkit<2.1.0,>=2.0.0->ipython>=6.0; python_version >= \"3.3\"->pyUSID->pyTEMlib==0.7.2019.9) (0.1.7)\n",
      "Requirement already satisfied, skipping upgrade: parso>=0.5.0 in c:\\users\\gdusc\\anaconda3\\lib\\site-packages (from jedi>=0.10->ipython>=6.0; python_version >= \"3.3\"->pyUSID->pyTEMlib==0.7.2019.9) (0.5.1)\n",
      "Requirement already satisfied, skipping upgrade: Send2Trash in c:\\users\\gdusc\\anaconda3\\lib\\site-packages (from notebook>=4.4.1->widgetsnbextension~=3.5.0->ipywidgets>=5.2.2->pyUSID->pyTEMlib==0.7.2019.9) (1.5.0)\n",
      "Requirement already satisfied, skipping upgrade: nbconvert in c:\\users\\gdusc\\anaconda3\\lib\\site-packages (from notebook>=4.4.1->widgetsnbextension~=3.5.0->ipywidgets>=5.2.2->pyUSID->pyTEMlib==0.7.2019.9) (5.6.0)\n",
      "Requirement already satisfied, skipping upgrade: terminado>=0.8.1 in c:\\users\\gdusc\\anaconda3\\lib\\site-packages (from notebook>=4.4.1->widgetsnbextension~=3.5.0->ipywidgets>=5.2.2->pyUSID->pyTEMlib==0.7.2019.9) (0.8.2)\n",
      "Requirement already satisfied, skipping upgrade: prometheus-client in c:\\users\\gdusc\\anaconda3\\lib\\site-packages (from notebook>=4.4.1->widgetsnbextension~=3.5.0->ipywidgets>=5.2.2->pyUSID->pyTEMlib==0.7.2019.9) (0.7.1)\n",
      "Requirement already satisfied, skipping upgrade: pyzmq>=17 in c:\\users\\gdusc\\anaconda3\\lib\\site-packages (from notebook>=4.4.1->widgetsnbextension~=3.5.0->ipywidgets>=5.2.2->pyUSID->pyTEMlib==0.7.2019.9) (18.1.0)\n",
      "Requirement already satisfied, skipping upgrade: jinja2 in c:\\users\\gdusc\\anaconda3\\lib\\site-packages (from notebook>=4.4.1->widgetsnbextension~=3.5.0->ipywidgets>=5.2.2->pyUSID->pyTEMlib==0.7.2019.9) (2.10.3)\n",
      "Requirement already satisfied, skipping upgrade: pywin32>=1.0; sys_platform == \"win32\" in c:\\users\\gdusc\\anaconda3\\lib\\site-packages (from jupyter-client->ipykernel>=4.5.1->ipywidgets>=5.2.2->pyUSID->pyTEMlib==0.7.2019.9) (223)\n",
      "Requirement already satisfied, skipping upgrade: pyrsistent>=0.14.0 in c:\\users\\gdusc\\anaconda3\\lib\\site-packages (from jsonschema!=2.5.0,>=2.4->nbformat>=4.2.0->ipywidgets>=5.2.2->pyUSID->pyTEMlib==0.7.2019.9) (0.15.4)\n",
      "Requirement already satisfied, skipping upgrade: attrs>=17.4.0 in c:\\users\\gdusc\\anaconda3\\lib\\site-packages (from jsonschema!=2.5.0,>=2.4->nbformat>=4.2.0->ipywidgets>=5.2.2->pyUSID->pyTEMlib==0.7.2019.9) (19.2.0)\n",
      "Requirement already satisfied, skipping upgrade: testpath in c:\\users\\gdusc\\anaconda3\\lib\\site-packages (from nbconvert->notebook>=4.4.1->widgetsnbextension~=3.5.0->ipywidgets>=5.2.2->pyUSID->pyTEMlib==0.7.2019.9) (0.4.2)\n",
      "Requirement already satisfied, skipping upgrade: defusedxml in c:\\users\\gdusc\\anaconda3\\lib\\site-packages (from nbconvert->notebook>=4.4.1->widgetsnbextension~=3.5.0->ipywidgets>=5.2.2->pyUSID->pyTEMlib==0.7.2019.9) (0.6.0)\n",
      "Requirement already satisfied, skipping upgrade: entrypoints>=0.2.2 in c:\\users\\gdusc\\anaconda3\\lib\\site-packages (from nbconvert->notebook>=4.4.1->widgetsnbextension~=3.5.0->ipywidgets>=5.2.2->pyUSID->pyTEMlib==0.7.2019.9) (0.3)\n",
      "Requirement already satisfied, skipping upgrade: bleach in c:\\users\\gdusc\\anaconda3\\lib\\site-packages (from nbconvert->notebook>=4.4.1->widgetsnbextension~=3.5.0->ipywidgets>=5.2.2->pyUSID->pyTEMlib==0.7.2019.9) (3.1.0)\n",
      "Requirement already satisfied, skipping upgrade: pandocfilters>=1.4.1 in c:\\users\\gdusc\\anaconda3\\lib\\site-packages (from nbconvert->notebook>=4.4.1->widgetsnbextension~=3.5.0->ipywidgets>=5.2.2->pyUSID->pyTEMlib==0.7.2019.9) (1.4.2)\n",
      "Requirement already satisfied, skipping upgrade: mistune<2,>=0.8.1 in c:\\users\\gdusc\\anaconda3\\lib\\site-packages (from nbconvert->notebook>=4.4.1->widgetsnbextension~=3.5.0->ipywidgets>=5.2.2->pyUSID->pyTEMlib==0.7.2019.9) (0.8.4)\n",
      "Requirement already satisfied, skipping upgrade: MarkupSafe>=0.23 in c:\\users\\gdusc\\anaconda3\\lib\\site-packages (from jinja2->notebook>=4.4.1->widgetsnbextension~=3.5.0->ipywidgets>=5.2.2->pyUSID->pyTEMlib==0.7.2019.9) (1.1.1)\n",
      "Requirement already satisfied, skipping upgrade: webencodings in c:\\users\\gdusc\\anaconda3\\lib\\site-packages (from bleach->nbconvert->notebook>=4.4.1->widgetsnbextension~=3.5.0->ipywidgets>=5.2.2->pyUSID->pyTEMlib==0.7.2019.9) (0.5.1)\n",
      "Building wheels for collected packages: pyTEMlib\n",
      "  Building wheel for pyTEMlib (setup.py): started\n",
      "  Building wheel for pyTEMlib (setup.py): finished with status 'done'\n",
      "  Created wheel for pyTEMlib: filename=pyTEMlib-0.7.2019.9-cp37-none-any.whl size=474375 sha256=179de81ae7cdc819290c05f948826755daa1d00dedf5d57d63108ea0b880e303\n",
      "  Stored in directory: C:\\Users\\gdusc\\AppData\\Local\\Temp\\pip-ephem-wheel-cache-hb21x0e3\\wheels\\4c\\63\\e9\\2ae2c4fb266b3718336f582c2521033ab98a1473f346f93a9f\n",
      "Successfully built pyTEMlib\n",
      "Installing collected packages: pyTEMlib\n",
      "  Found existing installation: pyTEMlib 0.7.2019.9\n",
      "    Uninstalling pyTEMlib-0.7.2019.9:\n",
      "      Successfully uninstalled pyTEMlib-0.7.2019.9\n",
      "Successfully installed pyTEMlib-0.7.2019.9\n"
     ]
    }
   ],
   "source": [
    "import sys\n",
    "!{sys.executable} -m pip install  --upgrade   ../pyTEMlib/\n"
   ]
  },
  {
   "cell_type": "code",
   "execution_count": 2,
   "metadata": {},
   "outputs": [
    {
     "name": "stdout",
     "output_type": "stream",
     "text": [
      "Processing c:\\users\\gdusc\\documents\\github\\pyusid\n",
      "Requirement already satisfied, skipping upgrade: numpy>=1.10 in c:\\users\\gdusc\\anaconda3\\lib\\site-packages (from pyUSID==0.0.6.2) (1.16.5)\n",
      "Requirement already satisfied, skipping upgrade: toolz in c:\\users\\gdusc\\anaconda3\\lib\\site-packages (from pyUSID==0.0.6.2) (0.10.0)\n",
      "Requirement already satisfied, skipping upgrade: cytoolz in c:\\users\\gdusc\\anaconda3\\lib\\site-packages (from pyUSID==0.0.6.2) (0.10.0)\n",
      "Requirement already satisfied, skipping upgrade: dask>=0.10 in c:\\users\\gdusc\\anaconda3\\lib\\site-packages (from pyUSID==0.0.6.2) (2.5.2)\n",
      "Requirement already satisfied, skipping upgrade: h5py>=2.6.0 in c:\\users\\gdusc\\anaconda3\\lib\\site-packages (from pyUSID==0.0.6.2) (2.9.0)\n",
      "Requirement already satisfied, skipping upgrade: pillow in c:\\users\\gdusc\\anaconda3\\lib\\site-packages (from pyUSID==0.0.6.2) (6.2.0)\n",
      "Requirement already satisfied, skipping upgrade: matplotlib>=2.0.0 in c:\\users\\gdusc\\anaconda3\\lib\\site-packages (from pyUSID==0.0.6.2) (3.1.1)\n",
      "Requirement already satisfied, skipping upgrade: psutil in c:\\users\\gdusc\\anaconda3\\lib\\site-packages (from pyUSID==0.0.6.2) (5.6.3)\n",
      "Requirement already satisfied, skipping upgrade: six in c:\\users\\gdusc\\anaconda3\\lib\\site-packages (from pyUSID==0.0.6.2) (1.12.0)\n",
      "Requirement already satisfied, skipping upgrade: joblib>=0.11.0 in c:\\users\\gdusc\\anaconda3\\lib\\site-packages (from pyUSID==0.0.6.2) (0.13.2)\n",
      "Requirement already satisfied, skipping upgrade: ipywidgets>=5.2.2 in c:\\users\\gdusc\\anaconda3\\lib\\site-packages (from pyUSID==0.0.6.2) (7.5.1)\n",
      "Requirement already satisfied, skipping upgrade: ipython>=6.0 in c:\\users\\gdusc\\anaconda3\\lib\\site-packages (from pyUSID==0.0.6.2) (7.8.0)\n",
      "Requirement already satisfied, skipping upgrade: cycler>=0.10 in c:\\users\\gdusc\\anaconda3\\lib\\site-packages (from matplotlib>=2.0.0->pyUSID==0.0.6.2) (0.10.0)\n",
      "Requirement already satisfied, skipping upgrade: kiwisolver>=1.0.1 in c:\\users\\gdusc\\anaconda3\\lib\\site-packages (from matplotlib>=2.0.0->pyUSID==0.0.6.2) (1.1.0)\n",
      "Requirement already satisfied, skipping upgrade: pyparsing!=2.0.4,!=2.1.2,!=2.1.6,>=2.0.1 in c:\\users\\gdusc\\anaconda3\\lib\\site-packages (from matplotlib>=2.0.0->pyUSID==0.0.6.2) (2.4.2)\n",
      "Requirement already satisfied, skipping upgrade: python-dateutil>=2.1 in c:\\users\\gdusc\\anaconda3\\lib\\site-packages (from matplotlib>=2.0.0->pyUSID==0.0.6.2) (2.8.0)\n",
      "Requirement already satisfied, skipping upgrade: nbformat>=4.2.0 in c:\\users\\gdusc\\anaconda3\\lib\\site-packages (from ipywidgets>=5.2.2->pyUSID==0.0.6.2) (4.4.0)\n",
      "Requirement already satisfied, skipping upgrade: traitlets>=4.3.1 in c:\\users\\gdusc\\anaconda3\\lib\\site-packages (from ipywidgets>=5.2.2->pyUSID==0.0.6.2) (4.3.3)\n",
      "Requirement already satisfied, skipping upgrade: ipykernel>=4.5.1 in c:\\users\\gdusc\\anaconda3\\lib\\site-packages (from ipywidgets>=5.2.2->pyUSID==0.0.6.2) (5.1.2)\n",
      "Requirement already satisfied, skipping upgrade: widgetsnbextension~=3.5.0 in c:\\users\\gdusc\\anaconda3\\lib\\site-packages (from ipywidgets>=5.2.2->pyUSID==0.0.6.2) (3.5.1)\n",
      "Requirement already satisfied, skipping upgrade: backcall in c:\\users\\gdusc\\anaconda3\\lib\\site-packages (from ipython>=6.0->pyUSID==0.0.6.2) (0.1.0)\n",
      "Requirement already satisfied, skipping upgrade: pygments in c:\\users\\gdusc\\anaconda3\\lib\\site-packages (from ipython>=6.0->pyUSID==0.0.6.2) (2.4.2)\n",
      "Requirement already satisfied, skipping upgrade: setuptools>=18.5 in c:\\users\\gdusc\\anaconda3\\lib\\site-packages (from ipython>=6.0->pyUSID==0.0.6.2) (41.4.0)\n",
      "Requirement already satisfied, skipping upgrade: decorator in c:\\users\\gdusc\\anaconda3\\lib\\site-packages (from ipython>=6.0->pyUSID==0.0.6.2) (4.4.0)\n",
      "Requirement already satisfied, skipping upgrade: prompt-toolkit<2.1.0,>=2.0.0 in c:\\users\\gdusc\\anaconda3\\lib\\site-packages (from ipython>=6.0->pyUSID==0.0.6.2) (2.0.10)\n",
      "Requirement already satisfied, skipping upgrade: colorama; sys_platform == \"win32\" in c:\\users\\gdusc\\anaconda3\\lib\\site-packages (from ipython>=6.0->pyUSID==0.0.6.2) (0.4.1)\n",
      "Requirement already satisfied, skipping upgrade: jedi>=0.10 in c:\\users\\gdusc\\anaconda3\\lib\\site-packages (from ipython>=6.0->pyUSID==0.0.6.2) (0.15.1)\n",
      "Requirement already satisfied, skipping upgrade: pickleshare in c:\\users\\gdusc\\anaconda3\\lib\\site-packages (from ipython>=6.0->pyUSID==0.0.6.2) (0.7.5)\n",
      "Requirement already satisfied, skipping upgrade: ipython-genutils in c:\\users\\gdusc\\anaconda3\\lib\\site-packages (from nbformat>=4.2.0->ipywidgets>=5.2.2->pyUSID==0.0.6.2) (0.2.0)\n",
      "Requirement already satisfied, skipping upgrade: jsonschema!=2.5.0,>=2.4 in c:\\users\\gdusc\\anaconda3\\lib\\site-packages (from nbformat>=4.2.0->ipywidgets>=5.2.2->pyUSID==0.0.6.2) (3.0.2)\n",
      "Requirement already satisfied, skipping upgrade: jupyter-core in c:\\users\\gdusc\\anaconda3\\lib\\site-packages (from nbformat>=4.2.0->ipywidgets>=5.2.2->pyUSID==0.0.6.2) (4.5.0)\n",
      "Requirement already satisfied, skipping upgrade: jupyter-client in c:\\users\\gdusc\\anaconda3\\lib\\site-packages (from ipykernel>=4.5.1->ipywidgets>=5.2.2->pyUSID==0.0.6.2) (5.3.3)\n",
      "Requirement already satisfied, skipping upgrade: tornado>=4.2 in c:\\users\\gdusc\\anaconda3\\lib\\site-packages (from ipykernel>=4.5.1->ipywidgets>=5.2.2->pyUSID==0.0.6.2) (6.0.3)\n",
      "Requirement already satisfied, skipping upgrade: notebook>=4.4.1 in c:\\users\\gdusc\\anaconda3\\lib\\site-packages (from widgetsnbextension~=3.5.0->ipywidgets>=5.2.2->pyUSID==0.0.6.2) (6.0.1)\n",
      "Requirement already satisfied, skipping upgrade: wcwidth in c:\\users\\gdusc\\anaconda3\\lib\\site-packages (from prompt-toolkit<2.1.0,>=2.0.0->ipython>=6.0->pyUSID==0.0.6.2) (0.1.7)\n",
      "Requirement already satisfied, skipping upgrade: parso>=0.5.0 in c:\\users\\gdusc\\anaconda3\\lib\\site-packages (from jedi>=0.10->ipython>=6.0->pyUSID==0.0.6.2) (0.5.1)\n",
      "Requirement already satisfied, skipping upgrade: pyrsistent>=0.14.0 in c:\\users\\gdusc\\anaconda3\\lib\\site-packages (from jsonschema!=2.5.0,>=2.4->nbformat>=4.2.0->ipywidgets>=5.2.2->pyUSID==0.0.6.2) (0.15.4)\n",
      "Requirement already satisfied, skipping upgrade: attrs>=17.4.0 in c:\\users\\gdusc\\anaconda3\\lib\\site-packages (from jsonschema!=2.5.0,>=2.4->nbformat>=4.2.0->ipywidgets>=5.2.2->pyUSID==0.0.6.2) (19.2.0)\n",
      "Requirement already satisfied, skipping upgrade: pywin32>=1.0; sys_platform == \"win32\" in c:\\users\\gdusc\\anaconda3\\lib\\site-packages (from jupyter-client->ipykernel>=4.5.1->ipywidgets>=5.2.2->pyUSID==0.0.6.2) (223)\n",
      "Requirement already satisfied, skipping upgrade: pyzmq>=13 in c:\\users\\gdusc\\anaconda3\\lib\\site-packages (from jupyter-client->ipykernel>=4.5.1->ipywidgets>=5.2.2->pyUSID==0.0.6.2) (18.1.0)\n",
      "Requirement already satisfied, skipping upgrade: nbconvert in c:\\users\\gdusc\\anaconda3\\lib\\site-packages (from notebook>=4.4.1->widgetsnbextension~=3.5.0->ipywidgets>=5.2.2->pyUSID==0.0.6.2) (5.6.0)\n",
      "Requirement already satisfied, skipping upgrade: terminado>=0.8.1 in c:\\users\\gdusc\\anaconda3\\lib\\site-packages (from notebook>=4.4.1->widgetsnbextension~=3.5.0->ipywidgets>=5.2.2->pyUSID==0.0.6.2) (0.8.2)\n",
      "Requirement already satisfied, skipping upgrade: jinja2 in c:\\users\\gdusc\\anaconda3\\lib\\site-packages (from notebook>=4.4.1->widgetsnbextension~=3.5.0->ipywidgets>=5.2.2->pyUSID==0.0.6.2) (2.10.3)\n",
      "Requirement already satisfied, skipping upgrade: Send2Trash in c:\\users\\gdusc\\anaconda3\\lib\\site-packages (from notebook>=4.4.1->widgetsnbextension~=3.5.0->ipywidgets>=5.2.2->pyUSID==0.0.6.2) (1.5.0)\n",
      "Requirement already satisfied, skipping upgrade: prometheus-client in c:\\users\\gdusc\\anaconda3\\lib\\site-packages (from notebook>=4.4.1->widgetsnbextension~=3.5.0->ipywidgets>=5.2.2->pyUSID==0.0.6.2) (0.7.1)\n",
      "Requirement already satisfied, skipping upgrade: pandocfilters>=1.4.1 in c:\\users\\gdusc\\anaconda3\\lib\\site-packages (from nbconvert->notebook>=4.4.1->widgetsnbextension~=3.5.0->ipywidgets>=5.2.2->pyUSID==0.0.6.2) (1.4.2)\n",
      "Requirement already satisfied, skipping upgrade: entrypoints>=0.2.2 in c:\\users\\gdusc\\anaconda3\\lib\\site-packages (from nbconvert->notebook>=4.4.1->widgetsnbextension~=3.5.0->ipywidgets>=5.2.2->pyUSID==0.0.6.2) (0.3)\n",
      "Requirement already satisfied, skipping upgrade: testpath in c:\\users\\gdusc\\anaconda3\\lib\\site-packages (from nbconvert->notebook>=4.4.1->widgetsnbextension~=3.5.0->ipywidgets>=5.2.2->pyUSID==0.0.6.2) (0.4.2)\n",
      "Requirement already satisfied, skipping upgrade: defusedxml in c:\\users\\gdusc\\anaconda3\\lib\\site-packages (from nbconvert->notebook>=4.4.1->widgetsnbextension~=3.5.0->ipywidgets>=5.2.2->pyUSID==0.0.6.2) (0.6.0)\n",
      "Requirement already satisfied, skipping upgrade: bleach in c:\\users\\gdusc\\anaconda3\\lib\\site-packages (from nbconvert->notebook>=4.4.1->widgetsnbextension~=3.5.0->ipywidgets>=5.2.2->pyUSID==0.0.6.2) (3.1.0)\n",
      "Requirement already satisfied, skipping upgrade: mistune<2,>=0.8.1 in c:\\users\\gdusc\\anaconda3\\lib\\site-packages (from nbconvert->notebook>=4.4.1->widgetsnbextension~=3.5.0->ipywidgets>=5.2.2->pyUSID==0.0.6.2) (0.8.4)\n",
      "Requirement already satisfied, skipping upgrade: MarkupSafe>=0.23 in c:\\users\\gdusc\\anaconda3\\lib\\site-packages (from jinja2->notebook>=4.4.1->widgetsnbextension~=3.5.0->ipywidgets>=5.2.2->pyUSID==0.0.6.2) (1.1.1)\n",
      "Requirement already satisfied, skipping upgrade: webencodings in c:\\users\\gdusc\\anaconda3\\lib\\site-packages (from bleach->nbconvert->notebook>=4.4.1->widgetsnbextension~=3.5.0->ipywidgets>=5.2.2->pyUSID==0.0.6.2) (0.5.1)\n",
      "Building wheels for collected packages: pyUSID\n",
      "  Building wheel for pyUSID (setup.py): started\n",
      "  Building wheel for pyUSID (setup.py): finished with status 'done'\n",
      "  Created wheel for pyUSID: filename=pyUSID-0.0.6.2-py2.py3-none-any.whl size=157282 sha256=70e6e7a5da636d6c8c2972537fe0843563be39aaf7dfe5b90153f71120cb4de1\n",
      "  Stored in directory: C:\\Users\\gdusc\\AppData\\Local\\Temp\\pip-ephem-wheel-cache-t6iv0ols\\wheels\\0b\\a2\\3a\\44d167050669f0eff5775e3ee6c4b7535a1fca888751203a50\n",
      "Successfully built pyUSID\n",
      "Installing collected packages: pyUSID\n",
      "  Found existing installation: pyUSID 0.0.6.2\n",
      "    Uninstalling pyUSID-0.0.6.2:\n",
      "      Successfully uninstalled pyUSID-0.0.6.2\n",
      "Successfully installed pyUSID-0.0.6.2\n"
     ]
    }
   ],
   "source": [
    "import sys\n",
    "!{sys.executable} -m pip install  --upgrade   ../pyUSID/\n"
   ]
  },
  {
   "cell_type": "markdown",
   "metadata": {},
   "source": [
    "## Uninstall\n",
    "\n",
    "for uninstall run the following code.\n"
   ]
  },
  {
   "cell_type": "code",
   "execution_count": null,
   "metadata": {},
   "outputs": [],
   "source": [
    "import sys\n",
    "!{sys.executable} -m pip uninstall  pyTEMlib"
   ]
  },
  {
   "cell_type": "markdown",
   "metadata": {},
   "source": [
    "## Upgrade Pip"
   ]
  },
  {
   "cell_type": "code",
   "execution_count": 7,
   "metadata": {},
   "outputs": [
    {
     "name": "stdout",
     "output_type": "stream",
     "text": [
      "Collecting pip\n",
      "  Downloading https://files.pythonhosted.org/packages/f9/fb/863012b13912709c13cf5cfdbfb304fa6c727659d6290438e1a88df9d848/pip-19.1-py2.py3-none-any.whl (1.4MB)\n",
      "Installing collected packages: pip\n",
      "  Found existing installation: pip 19.0.3\n",
      "    Uninstalling pip-19.0.3:\n",
      "      Successfully uninstalled pip-19.0.3\n",
      "Successfully installed pip-19.1\n"
     ]
    }
   ],
   "source": [
    "import sys\n",
    "# get rid of annoying update pip installer\n",
    "!{sys.executable} -m pip install --upgrade pip\n"
   ]
  },
  {
   "cell_type": "markdown",
   "metadata": {},
   "source": [
    "## Note\n",
    "\n",
    "Don't forget to restart the Kernel of all notebooks that are open to make changes effective"
   ]
  },
  {
   "cell_type": "markdown",
   "metadata": {
    "collapsed": true
   },
   "source": [
    "## Next:  [Open a (DM) file ](CH1-pyUSID.ipynb)\n",
    "## ## List of Content: [Front](_Analysis_of_Transmission_Electron_Microscope_Data.ipynb)"
   ]
  },
  {
   "cell_type": "code",
   "execution_count": null,
   "metadata": {},
   "outputs": [],
   "source": []
  }
 ],
 "metadata": {
  "kernelspec": {
   "display_name": "Python 3",
   "language": "python",
   "name": "python3"
  },
  "language_info": {
   "codemirror_mode": {
    "name": "ipython",
    "version": 3
   },
   "file_extension": ".py",
   "mimetype": "text/x-python",
   "name": "python",
   "nbconvert_exporter": "python",
   "pygments_lexer": "ipython3",
   "version": "3.7.4"
  }
 },
 "nbformat": 4,
 "nbformat_minor": 2
}
