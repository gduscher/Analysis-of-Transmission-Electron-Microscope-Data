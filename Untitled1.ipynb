{
 "cells": [
  {
   "cell_type": "code",
   "execution_count": 1,
   "metadata": {},
   "outputs": [],
   "source": [
    "graph_example = { 0 : [1],\n",
    "                  1 : [0, 2, 3, 5],    # edit: corrected from [0, 2] to [0, 2, 3, 5]\n",
    "                  2 : [1],\n",
    "                  3 : [1, 4],\n",
    "                  4 : [3, 5],\n",
    "                  5 : [1, 4] }"
   ]
  },
  {
   "cell_type": "code",
   "execution_count": 2,
   "metadata": {},
   "outputs": [
    {
     "name": "stdout",
     "output_type": "stream",
     "text": [
      "{0: [1], 1: [0, 2, 3, 5], 2: [1], 3: [1, 4], 4: [3, 5], 5: [1, 4]}\n"
     ]
    }
   ],
   "source": [
    "print(graph_example)"
   ]
  },
  {
   "cell_type": "code",
   "execution_count": 10,
   "metadata": {},
   "outputs": [
    {
     "name": "stdout",
     "output_type": "stream",
     "text": [
      "[0, 2, 3, 5]\n"
     ]
    }
   ],
   "source": [
    "print((graph_example[1]))"
   ]
  },
  {
   "cell_type": "code",
   "execution_count": 11,
   "metadata": {},
   "outputs": [],
   "source": [
    "def cycle_exists(G):                      # - G is an undirected graph.              \n",
    "    marked = { u : False for u in G }     # - All nodes are initially unmarked.\n",
    "    found_cycle = [False]                 # - Define found_cycle as a list so we can change\n",
    "                                          # its value per reference, see:\n",
    "                                          # http://stackoverflow.com/questions/11222440/python-variable-reference-assignment\n",
    " \n",
    "    for u in G:                           # - Visit all nodes.\n",
    "        if not marked[u]:\n",
    "            dfs_visit(G, u, found_cycle, u, marked)     # - u is its own predecessor initially\n",
    "        if found_cycle[0]:\n",
    "            break\n",
    "    return found_cycle[0]\n",
    " \n",
    "#--------\n",
    " \n",
    "def dfs_visit(G, u, found_cycle, pred_node, marked):\n",
    "    if found_cycle[0]:                                # - Stop dfs if cycle is found.\n",
    "        return\n",
    "    marked[u] = True                                  # - Mark node.\n",
    "    for v in G[u]:                                    # - Check neighbors, where G[u] is the adjacency list of u.\n",
    "        if marked[v] and v != pred_node:              # - If neighbor is marked and not predecessor,\n",
    "            found_cycle[0] = True                     # then a cycle exists.\n",
    "            return\n",
    "        if not marked[v]:                             # - Call dfs_visit recursively.\n",
    "            dfs_visit(G, v, found_cycle, u, marked)"
   ]
  },
  {
   "cell_type": "code",
   "execution_count": 12,
   "metadata": {},
   "outputs": [
    {
     "data": {
      "text/plain": [
       "True"
      ]
     },
     "execution_count": 12,
     "metadata": {},
     "output_type": "execute_result"
    }
   ],
   "source": [
    "cycle_exists(graph_example)"
   ]
  },
  {
   "cell_type": "code",
   "execution_count": null,
   "metadata": {},
   "outputs": [],
   "source": []
  }
 ],
 "metadata": {
  "kernelspec": {
   "display_name": "Python 3",
   "language": "python",
   "name": "python3"
  },
  "language_info": {
   "codemirror_mode": {
    "name": "ipython",
    "version": 3
   },
   "file_extension": ".py",
   "mimetype": "text/x-python",
   "name": "python",
   "nbconvert_exporter": "python",
   "pygments_lexer": "ipython3",
   "version": "3.7.3"
  }
 },
 "nbformat": 4,
 "nbformat_minor": 2
}
