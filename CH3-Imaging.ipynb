{
 "cells": [
  {
   "cell_type": "markdown",
   "metadata": {},
   "source": [
    "# Chapter 3: Imaging\n",
    "\n",
    "\n",
    "\n",
    "<hr style=\"height:1px;border-top:4px solid #FF8200\" />\n",
    "\n",
    "part of \n",
    "\n",
    "## [Analysis of Transmission Electron Microscope Data](_Analysis_of_Transmission_Electron_Microscope_Data.ipynb)\n",
    "\n",
    "\n",
    "\n",
    "by Gerd Duscher, 2019\n",
    "\n",
    "Microscopy Facilities<br>\n",
    "Joint Institute of Advanced Materials<br>\n",
    "The University of Tennessee, Knoxville\n",
    "\n",
    "Model based analysis and quantification of data acquired with transmission electron microscopes\n",
    "\n",
    "The Imaging chapter has the following sections:\n",
    "* [Resolution Limit](Ch3-Resolution.ipynb)\n",
    "* [Image Processing](Ch3-ImageProcessing.ipynb)\n",
    "* [Contrast Transfer Function](Ch3-CTF.ipynb)\n",
    "* [HRTEM Image Analysis](Ch3-ImageAnalysis.ipynb)\n",
    "* [Register Image Stack](CH3-Image_Registration.ipynb)\n",
    "* [Find Atoms](Ch3-Find_Atoms.ipynb)\n",
    "* [Atom clustering](Ch3-Atom_Clustering.ipynb)\n",
    "* [Voronoi_Image_Analysis](Voronoi_Image_Analysis.ipynb)\n",
    "\n",
    " "
   ]
  },
  {
   "cell_type": "markdown",
   "metadata": {},
   "source": [
    "## Back:  Chapter 2: [Diffraction](CH2-Diffraction.ipynb)\n",
    "## Next:  Chapter 4: [Spectroscopy](CH4-Spectroscopy.ipynb)\n",
    "\n",
    "## List of Content: [Front](_MSE672-IntroToTEM.ipynb)"
   ]
  },
  {
   "cell_type": "code",
   "execution_count": null,
   "metadata": {},
   "outputs": [],
   "source": []
  }
 ],
 "metadata": {
  "kernelspec": {
   "display_name": "Python 3",
   "language": "python",
   "name": "python3"
  },
  "language_info": {
   "codemirror_mode": {
    "name": "ipython",
    "version": 3
   },
   "file_extension": ".py",
   "mimetype": "text/x-python",
   "name": "python",
   "nbconvert_exporter": "python",
   "pygments_lexer": "ipython3",
   "version": "3.7.3"
  }
 },
 "nbformat": 4,
 "nbformat_minor": 2
}
