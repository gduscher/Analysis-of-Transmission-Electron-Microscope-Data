{
 "cells": [
  {
   "cell_type": "markdown",
   "metadata": {},
   "source": [
    "# Chapter 2: Diffraction\n",
    "\n",
    "\n",
    "<hr style=\"height:1px;border-top:4px solid #FF8200\" />\n",
    "\n",
    "part of \n",
    "\n",
    "## [Analysis of Transmission Electron Microscope Data](_Analysis_of_Transmission_Electron_Microscope_Data.ipynb)\n",
    "\n",
    "\n",
    "\n",
    "by Gerd Duscher, 2019\n",
    "\n",
    "Microscopy Facilities<br>\n",
    "Joint Institute of Advanced Materials<br>\n",
    "The University of Tennessee, Knoxville\n",
    "\n",
    "Model based analysis and quantification of data acquired with transmission electron microscopes\n",
    "part of\n",
    "\n",
    "The diffraction chapter has the following sections:\n",
    "## Content\n",
    "The Diffraction chapter has the following sections:\n",
    "* [The Electron](CH2-Electron.ipynb)\n",
    "* [Atomic Form Factor](Ch2-Atomic_Form_Factor.ipynb)\n",
    "* [Basic Crystallography](Ch2-Basic_Crystallography.ipynb)\n",
    "    * [Plot Unit Cell with Other Packages](Plot_UnitCell.ipynb)\n",
    "    * [Fourier Transform Laboratory](FourierTransformLaboratory.ipynb)\n",
    "* [Structure Factors](CH2-Structure_Factors.ipynb)\n",
    "* [Analyzing Ring Diffraction Pattern](CH2-Diffraction-Rings.ipynb)\n",
    "* [Kinematic Scattering Geometry](CH2-Kinematic_Scattering_Geometry.ipynb)\n",
    "* [Plotting of Diffraction Pattern](CH2-Plotting_Diffraction_Pattern.ipynb)\n",
    "* [Analyzing Spot Diffraction Pattern](CH2-Spot_Diffraction_Pattern.ipynb)\n",
    "* [Kikuchi Lines](CH2-Kikuchi_Lines.ipynb)\n",
    "* [HOLZ Lines](HOLZ_Lines.ipynb)\n",
    "* [Lattice Determination with HOLZ](HOLZ_Example.ipynb) \n",
    "* [Kinematic Diffraction with KinsCat](Kinematic_Diffraction_with_KinsCat.ipynb)\n",
    "\n",
    "\n",
    "According to Fourier-Optical view of the TEM we first form a diffraction pattern (in Fourier space)and after another  Fourier\n",
    "Transformation of parts of this diffraction pattern we are back in real space and can observe an image.\n",
    "\n",
    "- Any image in a TEM can be described as Fourier Filtering, because we select the beams that form the images. The knowledge of which and how many diffracted beams contribute to the image formation is crucial.\n",
    "- Because the intensity of selected diffracted beams is necessary to calculate image intensities, dynamic diffraction theory is necessary.\n",
    "- Understanding Diffraction theory of electrons is the core of the analysis of TEM data.\n",
    "\n",
    "## Dynamic and Kinematic Theory\n",
    "\n",
    "- Diffraction is the direct result of the interaction (with or without energy transfer) of electrons and matter.\n",
    "- Kinematic diffraction theory describes only the Bragg angles (the position of the Bragg reflections) but not the intensity in a real diffraction pattern.\n",
    "- Dynamic theory is responsible for the intensity variation of the Bragg reflections. \n",
    "\n",
    "- Kinematic Theory is based on a single scattering event per electron\n",
    "- Kinematic theory is used in neutron and X-ray diffraction almost exclusively.\n",
    "- Dynamic theory incorporates multi scattering events.\n",
    "- Dynamic theory results in Rocking Curves of intensities of diffracted beams with sample thickness.\n",
    "- Dynamic theory can analytically be solved only for the two beam case, strangely the basis for conventional TEM.\n",
    "\n"
   ]
  },
  {
   "cell_type": "markdown",
   "metadata": {},
   "source": [
    "## Back:  Chapter 1: [Introduction](CH1-Introduction.ipynb)\n",
    "## Next:  Chapter 3: [Imaging](CH3-Imaging.ipynb)\n",
    "\n",
    "## List of Content: [Front](_Analysis_of_Transmission_Electron_Microscope_Data.ipynb)"
   ]
  },
  {
   "cell_type": "code",
   "execution_count": null,
   "metadata": {},
   "outputs": [],
   "source": []
  }
 ],
 "metadata": {
  "kernelspec": {
   "display_name": "Python 3",
   "language": "python",
   "name": "python3"
  },
  "language_info": {
   "codemirror_mode": {
    "name": "ipython",
    "version": 3
   },
   "file_extension": ".py",
   "mimetype": "text/x-python",
   "name": "python",
   "nbconvert_exporter": "python",
   "pygments_lexer": "ipython3",
   "version": "3.7.3"
  }
 },
 "nbformat": 4,
 "nbformat_minor": 2
}
