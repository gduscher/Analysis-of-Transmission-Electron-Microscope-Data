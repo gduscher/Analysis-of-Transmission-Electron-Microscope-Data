{
 "cells": [
  {
   "cell_type": "markdown",
   "metadata": {},
   "source": [
    "# Chapter 4: Spectroscopy\n",
    "\n",
    "part of\n",
    "\n",
    "## [Analysis of Transmission Electron Microscope Data](_Analysis_of_Transmission_Electron_Microscope_Data.ipynb)\n",
    "\n",
    "by Gerd Duscher\n",
    "Microscopy Facilities<br>\n",
    "Joint Institute of Advanced Materials<br>\n",
    "The University of Tennessee, Knoxville\n",
    "\n",
    "The Spectroscopy chapter has the following sections:\n",
    "\n",
    "* [Loading an EELS Spectrum](CH4-LoadEELS.ipynb)\n",
    "\n",
    "**Low-Loss EELS**\n",
    "* [Fitting the Zero-Loss Peak](FitZeroLoss.ipynb)\n",
    "* [Analysing Low-Loss Spectra with Drude Theory](DrudeLL.ipynb)\n",
    "* [Momentum Resolved EELS](Dispersion.ipynb)\n",
    "* [Simulation of Momentum Resolved EELS](Kroeger.ipynb)\n",
    "* [Calculating Dielectric Function I: Aluminum](DielectricDFT.ipynb)\n",
    "* [Calculating Dielectric Function II: Silicon](DielectricDFT2.ipynb)\n",
    "\n",
    "**Core Loss EELS**\n",
    "* [Background Fit](Background_Fit.ipynb)\n",
    "* [Working with Cross-Sections](CH4-Working_with_X-Sections.ipynb)\n",
    "* [Chemical Composition](CH4-Chemical_Composition.ipynb)\n",
    "* [Analysing Core-Loss Spectra](CH4-Analyse_Core_Loss.ipynb)\n",
    "* [Electron Energy-Loss Near-Edge Structure](ELNES.ipynb)* [Chemical Composition](CH4-Core_Loss.ipynb)\n",
    "\n"
   ]
  },
  {
   "cell_type": "code",
   "execution_count": null,
   "metadata": {},
   "outputs": [],
   "source": []
  },
  {
   "cell_type": "markdown",
   "metadata": {},
   "source": [
    "## Back:  Chapter 3: [Imaging](Imaging.ipynb)\n",
    "\n",
    "## List of Content: [Front](_MSE672-IntroToTEM.ipynb)"
   ]
  },
  {
   "cell_type": "code",
   "execution_count": null,
   "metadata": {},
   "outputs": [],
   "source": []
  }
 ],
 "metadata": {
  "kernelspec": {
   "display_name": "Python 3",
   "language": "python",
   "name": "python3"
  },
  "language_info": {
   "codemirror_mode": {
    "name": "ipython",
    "version": 3
   },
   "file_extension": ".py",
   "mimetype": "text/x-python",
   "name": "python",
   "nbconvert_exporter": "python",
   "pygments_lexer": "ipython3",
   "version": "3.7.3"
  }
 },
 "nbformat": 4,
 "nbformat_minor": 2
}
