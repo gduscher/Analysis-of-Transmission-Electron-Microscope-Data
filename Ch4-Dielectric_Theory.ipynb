{
 "cells": [
  {
   "cell_type": "markdown",
   "metadata": {},
   "source": [
    "# Dielectric Theory of Low Loss Spectrum\n",
    "\n",
    "\n",
    "part of \n",
    "\n",
    "## [Analysis of Transmission Electron Microscope Data](Analysis_of_Transmission_Electron_Microscope_Data.ipynb)\n",
    "\n",
    "Chapter 4: [Spectroscopy](Diffraction.ipynb)\n",
    "\n",
    "by Gerd Duscher\n"
   ]
  },
  {
   "cell_type": "code",
   "execution_count": 1,
   "metadata": {},
   "outputs": [
    {
     "name": "stdout",
     "output_type": "stream",
     "text": [
      "Populating the interactive namespace from numpy and matplotlib\n"
     ]
    }
   ],
   "source": [
    "# import matplotlib and numpy\n",
    "#                       use \"inline\" instead of \"notebook\" for non-interactive plots\n",
    "%pylab --no-import-all notebook"
   ]
  },
  {
   "cell_type": "markdown",
   "metadata": {},
   "source": [
    "We devoine the z-axis as the direction a high energy incident electron is travelling at velocity $v$.\n",
    "The x,y- axes form a right-handed coordinate system with the z-axis. \n",
    "\n",
    "The divergence of the electric displacement $\\vec{D}$ is given by Maxwell’s\n",
    "equations:\n",
    "$$ \\nabla  \\vec{D}(r, t) = \\rho_f(r, t) $$\n",
    "\n",
    "where $r$ is the position vector, $t$ is time and $rho_f$ is the free charge density.\n",
    "The incident electron is treated classically as a point particle, so that (Ritchie, 1957):"
   ]
  },
  {
   "cell_type": "code",
   "execution_count": null,
   "metadata": {},
   "outputs": [],
   "source": []
  }
 ],
 "metadata": {
  "kernelspec": {
   "display_name": "Python 3",
   "language": "python",
   "name": "python3"
  },
  "language_info": {
   "codemirror_mode": {
    "name": "ipython",
    "version": 3
   },
   "file_extension": ".py",
   "mimetype": "text/x-python",
   "name": "python",
   "nbconvert_exporter": "python",
   "pygments_lexer": "ipython3",
   "version": "3.7.0"
  }
 },
 "nbformat": 4,
 "nbformat_minor": 2
}
